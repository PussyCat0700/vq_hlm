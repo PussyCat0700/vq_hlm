{
 "cells": [
  {
   "cell_type": "code",
   "execution_count": 12,
   "metadata": {},
   "outputs": [],
   "source": [
    "import h5py\n",
    "\n",
    "h5filename = '/data1/public/vqhlm/wikitext103_gpt2finetuned/test.h5'"
   ]
  },
  {
   "cell_type": "markdown",
   "metadata": {},
   "source": [
    "# 数据操作"
   ]
  },
  {
   "cell_type": "markdown",
   "metadata": {},
   "source": [
    "## ChunkedDataset"
   ]
  },
  {
   "cell_type": "code",
   "execution_count": 13,
   "metadata": {},
   "outputs": [
    {
     "name": "stdout",
     "output_type": "stream",
     "text": [
      "Input IDs: torch.Size([128, 1024])\n",
      "Labels: torch.Size([128, 1024])\n",
      "Hidden States: torch.Size([128, 256, 768])\n"
     ]
    }
   ],
   "source": [
    "from dataloading import get_chunked_h5dataloader\n",
    "from constants import KEY_LM_INPUT_IDS, KEY_LM_HIDDEN_STATES, KEY_LM_LABELS\n",
    "\n",
    "dataloader = get_chunked_h5dataloader(\n",
    "    config_path='conf/data/example_normed.yaml',\n",
    "    split='test',\n",
    ")\n",
    "\n",
    "for batch in dataloader:\n",
    "    input_ids = batch[KEY_LM_INPUT_IDS]\n",
    "    labels = batch[KEY_LM_LABELS]\n",
    "    hidden_states = batch[KEY_LM_HIDDEN_STATES]\n",
    "    \n",
    "    print(f\"Input IDs: {input_ids.shape}\")\n",
    "    print(f\"Labels: {labels.shape}\")\n",
    "    print(f\"Hidden States: {hidden_states.shape}\")\n",
    "    break  # 这里只打印一个批次的数据"
   ]
  },
  {
   "cell_type": "markdown",
   "metadata": {},
   "source": [
    "## 线性缩放计算Loss估计值"
   ]
  },
  {
   "cell_type": "code",
   "execution_count": 3,
   "metadata": {},
   "outputs": [
    {
     "name": "stdout",
     "output_type": "stream",
     "text": [
      "0.60 :0.06889273226261139\n",
      "0.62 :0.06544810036818187\n",
      "0.64 :0.06200346723198891\n",
      "0.66 :0.05855882167816162\n",
      "0.68 :0.05511418730020523\n",
      "0.70 :0.05166955292224884\n",
      "0.72 :0.048224907368421555\n",
      "0.74 :0.04478027547399203\n",
      "0.76 :0.04133564109603564\n",
      "0.78 :0.03789100920160612\n",
      "0.80 :0.03444636488954226\n",
      "0.82 :0.031001731753349304\n",
      "0.84 :0.02755709799627463\n",
      "0.86 :0.024112453684210777\n",
      "0.88 :0.02066782054801782\n",
      "0.90 :0.017223188032706577\n",
      "0.92 :0.013778544341524443\n",
      "0.94 :0.01033391027400891\n",
      "0.96 :0.00688927744825681\n",
      "0.98 :0.0034446336018542447\n"
     ]
    }
   ],
   "source": [
    "def calculate_dataset_stats(dataloader, ratio=0.7):\n",
    "    total_loss = 0\n",
    "    # 遍历整个数据集并收集所有的 hidden_states\n",
    "    for i, batch in enumerate(dataloader):\n",
    "        hidden_states = batch[KEY_LM_HIDDEN_STATES]\n",
    "        out = ratio * hidden_states\n",
    "        # out = out.clamp(-1., 1.)\n",
    "        rec_loss = (out - hidden_states).abs().mean()\n",
    "        total_loss += rec_loss.item()\n",
    "    total_loss /= len(dataloader)\n",
    "    return total_loss    \n",
    "\n",
    "# # 示例用法：\n",
    "for ratio in range(60, 100, 2):\n",
    "    ratio = 0.01*ratio\n",
    "    total_loss = calculate_dataset_stats(dataloader, ratio)\n",
    "    print(\"%.2f\"%(ratio), f\":{total_loss}\")"
   ]
  },
  {
   "cell_type": "markdown",
   "metadata": {},
   "source": [
    "## 高斯分布计算Loss估计值"
   ]
  },
  {
   "cell_type": "code",
   "execution_count": 4,
   "metadata": {},
   "outputs": [
    {
     "name": "stdout",
     "output_type": "stream",
     "text": [
      "0.60 :0.13921922693649927\n",
      "0.62 :0.15107508997122446\n",
      "0.64 :0.20478572199741998\n",
      "0.66 :0.09635759145021439\n",
      "0.68 :0.06801183770100276\n",
      "0.70 :0.0702599361538887\n",
      "0.72 :0.06766711547970772\n",
      "0.74 :0.06093065689007441\n",
      "0.76 :0.050541323920090996\n",
      "0.78 :0.03876931220293045\n",
      "0.80 :0.054274054865042366\n",
      "0.82 :0.032897524535655975\n",
      "0.84 :0.04510338852802912\n",
      "0.86 :0.04189051377276579\n",
      "0.88 :0.031099339947104454\n",
      "0.90 :0.026102940862377483\n",
      "0.92 :0.0128426942974329\n",
      "0.94 :0.018153051535288494\n",
      "0.96 :0.01909277184555928\n",
      "0.98 :0.004780377882222335\n"
     ]
    }
   ],
   "source": [
    "import torch\n",
    "\n",
    "def calculate_dataset_stats(dataloader, ratio=0.7):\n",
    "    total_loss = 0\n",
    "    # 遍历整个数据集并收集所有的 hidden_states\n",
    "    for i, batch in enumerate(dataloader):\n",
    "        hidden_states = batch[KEY_LM_HIDDEN_STATES]\n",
    "        \n",
    "        # 创建一个形状为 (256,) 的掩码，标记出比例为 (1-ratio) 的部分\n",
    "        mask = torch.rand(hidden_states.size(1)) < ratio  # mask的大小是 (256,)\n",
    "        \n",
    "        # 扩展掩码到 (128, 256, 768) 形状\n",
    "        mask = mask.unsqueeze(0).unsqueeze(2).expand(hidden_states.size(0), hidden_states.size(1), hidden_states.size(2))\n",
    "        \n",
    "        # 生成一个形状与 hidden_states 相同的高斯分布张量\n",
    "        gaussian_fill = torch.normal(mean=hidden_states.mean(), std=hidden_states.std())  # 生成均值为0，方差为1的高斯分布\n",
    "        # gaussian_fill = torch.randn_like(hidden_states)  # 生成均值为0，方差为1的高斯分布\n",
    "        \n",
    "        # 将被掩盖为零的部分用高斯分布填充\n",
    "        masked_hidden_states = hidden_states * mask.float() + gaussian_fill * (1 - mask.float())\n",
    "        \n",
    "        # 计算重构损失\n",
    "        rec_loss = (masked_hidden_states - hidden_states).abs().mean()\n",
    "        total_loss += rec_loss.item()\n",
    "\n",
    "    total_loss /= len(dataloader)\n",
    "    return total_loss\n",
    "\n",
    "for ratio in range(60, 100, 2):\n",
    "    ratio = 0.01*ratio\n",
    "    total_loss = calculate_dataset_stats(dataloader, ratio)\n",
    "    print(\"%.2f\"%(ratio), f\":{total_loss}\")"
   ]
  },
  {
   "cell_type": "code",
   "execution_count": 14,
   "metadata": {},
   "outputs": [
    {
     "data": {
      "image/png": "[encoded data removed]",
      "text/plain": [
       "<Figure size 640x480 with 1 Axes>"
      ]
     },
     "metadata": {},
     "output_type": "display_data"
    }
   ],
   "source": [
    "import numpy as np\n",
    "import matplotlib.pyplot as plt\n",
    "\n",
    "# 假设你的 dataloader 是这样的\n",
    "# dataloader = ...\n",
    "\n",
    "# 频率分布的边界：你可以根据数据范围来选择适当的区间\n",
    "bins = 100  # 可以根据数据的范围调整\n",
    "min_value, max_value = float('inf'), float('-inf')\n",
    "\n",
    "# 首先遍历数据集，获取最小和最大值\n",
    "for batch in dataloader:\n",
    "    min_value = min(min_value, batch[KEY_LM_HIDDEN_STATES].min().item())\n",
    "    max_value = max(max_value, batch[KEY_LM_HIDDEN_STATES].max().item())\n",
    "\n",
    "# 创建一个全局的计数器\n",
    "hist_counts = np.zeros(bins)\n",
    "\n",
    "# 遍历数据集，按批次更新频率分布\n",
    "for batch in dataloader:\n",
    "    # 扁平化数据并转为 numpy\n",
    "    batch_data = batch[KEY_LM_HIDDEN_STATES].view(-1).cpu().numpy()\n",
    "    \n",
    "    # 使用 numpy 计算当前批次的频率分布\n",
    "    hist, bin_edges = np.histogram(batch_data, bins=bins, range=(min_value, max_value))\n",
    "    \n",
    "    # 更新全局频率计数器\n",
    "    hist_counts += hist\n",
    "\n",
    "# 绘制最终的频率分布图\n",
    "bin_centers = 0.5 * (bin_edges[1:] + bin_edges[:-1])  # 获取每个 bin 的中心\n",
    "plt.bar(bin_centers, hist_counts, width=(bin_edges[1] - bin_edges[0]), align='center')\n",
    "plt.title('Frequency Distribution of Dataset')\n",
    "plt.xlabel('Value')\n",
    "plt.ylabel('Frequency')\n",
    "plt.show()"
   ]
  },
  {
   "cell_type": "markdown",
   "metadata": {},
   "source": [
    "## H5py直接操作"
   ]
  },
  {
   "cell_type": "markdown",
   "metadata": {},
   "source": [
    "- 模型来自 https://huggingface.co/neulab/gpt2-finetuned-wikitext103\n",
    "- 模型tokenizer和定义如下\n",
    "```\n",
    "# Load model directly\n",
    "from transformers import AutoTokenizer, AutoModelForCausalLM\n",
    "\n",
    "tokenizer = AutoTokenizer.from_pretrained(\"neulab/gpt2-finetuned-wikitext103\")\n",
    "model = AutoModelForCausalLM.from_pretrained(\"neulab/gpt2-finetuned-wikitext103\")\n",
    "```"
   ]
  },
  {
   "cell_type": "code",
   "execution_count": 15,
   "metadata": {},
   "outputs": [
    {
     "name": "stdout",
     "output_type": "stream",
     "text": [
      "Total samples in the dataset: 548\n",
      "Hidden states shape: (548, 1024, 768)\n",
      "Input IDs shape: (548, 1024)\n",
      "Labels shape: (548, 1024)\n",
      "Sample 0 - Input IDs: [  796  5199   347 ... 50256 50256 50256]\n",
      "Sample 0 - Labels: [ 796 5199  347 ... -100 -100 -100]\n",
      "Sample 0 - Hidden States: [[-1.6174933  -1.1284641   0.0215988  ... -2.2583933   1.6741287\n",
      "  -0.35499385]\n",
      " [-5.498198    2.3329258  -2.2865224  ...  0.42031875  0.07713613\n",
      "   1.1435596 ]\n",
      " [ 1.8659987   1.5455958   1.0896978  ...  3.514292   -0.08421862\n",
      "   3.3854916 ]\n",
      " ...\n",
      " [ 0.798916    2.5979886  -0.07587534 ... -0.737859   -1.1983643\n",
      "   4.190173  ]\n",
      " [ 0.7338563   2.760131   -0.01490831 ... -0.6301186  -1.1114419\n",
      "   4.6592402 ]\n",
      " [ 0.7557825   1.4493941  -3.1341372  ... -2.043258    0.9624741\n",
      "   5.8210287 ]]\n"
     ]
    }
   ],
   "source": [
    "# 读取 HDF5 文件\n",
    "with h5py.File(h5filename, 'r') as f:\n",
    "    # 读取 total_samples 元数据\n",
    "    total_samples = f.attrs['total_samples']\n",
    "    print(f\"Total samples in the dataset: {total_samples}\")\n",
    "    \n",
    "    # 读取数据集\n",
    "    hidden_states = f['hidden_states'][:]\n",
    "    input_ids = f['input_ids'][:]\n",
    "    labels = f['labels'][:]\n",
    "\n",
    "    # 打印数据集的形状，确保读取正确\n",
    "    print(f\"Hidden states shape: {hidden_states.shape}\")\n",
    "    print(f\"Input IDs shape: {input_ids.shape}\")\n",
    "    print(f\"Labels shape: {labels.shape}\")\n",
    "    \n",
    "    # 获取第一个样本的数据并展示\n",
    "    sample_idx = 0  # 举例，读取第一个样本\n",
    "    print(f\"Sample {sample_idx} - Input IDs: {input_ids[sample_idx]}\")\n",
    "    print(f\"Sample {sample_idx} - Labels: {labels[sample_idx]}\")\n",
    "    \n",
    "    # 获取对应的 hidden states (flattened)\n",
    "    print(f\"Sample {sample_idx} - Hidden States: {hidden_states[sample_idx]}\")"
   ]
  }
 ],
 "metadata": {
  "kernelspec": {
   "display_name": "vqhlm",
   "language": "python",
   "name": "python3"
  },
  "language_info": {
   "codemirror_mode": {
    "name": "ipython",
    "version": 3
   },
   "file_extension": ".py",
   "mimetype": "text/x-python",
   "name": "python",
   "nbconvert_exporter": "python",
   "pygments_lexer": "ipython3",
   "version": "3.9.20"
  }
 },
 "nbformat": 4,
 "nbformat_minor": 2
}
