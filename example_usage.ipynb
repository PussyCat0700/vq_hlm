{
 "cells": [
  {
   "cell_type": "markdown",
   "metadata": {},
   "source": [
    "# 数据操作"
   ]
  },
  {
   "cell_type": "markdown",
   "metadata": {},
   "source": [
    "## ChunkedDataset"
   ]
  },
  {
   "cell_type": "code",
   "execution_count": 14,
   "metadata": {},
   "outputs": [
    {
     "name": "stdout",
     "output_type": "stream",
     "text": [
      "Input IDs: torch.Size([256, 1024])\n",
      "Labels: torch.Size([256, 1024])\n",
      "Hidden States: torch.Size([256, 256, 768])\n"
     ]
    }
   ],
   "source": [
    "from dataloading import get_chunked_h5dataloader\n",
    "from constants import KEY_LM_INPUT_IDS, KEY_LM_HIDDEN_STATES, KEY_LM_LABELS\n",
    "\n",
    "dataloader = get_chunked_h5dataloader(\n",
    "    config_path='conf/data/example_openai_pt.yaml',\n",
    "    split='test',\n",
    ")\n",
    "\n",
    "for batch in dataloader:\n",
    "    input_ids = batch[KEY_LM_INPUT_IDS]\n",
    "    labels = batch[KEY_LM_LABELS]\n",
    "    hidden_states = batch[KEY_LM_HIDDEN_STATES]\n",
    "    \n",
    "    print(f\"Input IDs: {input_ids.shape}\")\n",
    "    print(f\"Labels: {labels.shape}\")\n",
    "    print(f\"Hidden States: {hidden_states.shape}\")\n",
    "    break  # 这里只打印一个批次的数据"
   ]
  },
  {
   "cell_type": "code",
   "execution_count": 15,
   "metadata": {},
   "outputs": [
    {
     "name": "stdout",
     "output_type": "stream",
     "text": [
      "0.60 :1.0654203604607686\n",
      "0.62 :0.9615419763718208\n",
      "0.64 :0.8629906960647472\n",
      "0.66 :0.7697661658273126\n",
      "0.68 :0.6818690930839872\n",
      "0.70 :0.5992990684335249\n",
      "0.72 :0.5220559130619912\n",
      "0.74 :0.4501401296932332\n",
      "0.76 :0.38355142421966054\n",
      "0.78 :0.3222897946834564\n",
      "0.80 :0.26635509011519215\n",
      "0.82 :0.2157476730372784\n",
      "0.84 :0.17046733385454998\n",
      "0.86 :0.1305139782654978\n",
      "0.88 :0.09588784909378874\n",
      "0.90 :0.06658881723228162\n",
      "0.92 :0.04261679969129771\n",
      "0.94 :0.02397196376900168\n",
      "0.96 :0.01065421656426722\n",
      "0.98 :0.0026635462401203647\n"
     ]
    }
   ],
   "source": [
    "import numpy as np\n",
    "import torch.nn.functional as F\n",
    "\n",
    "def calculate_dataset_stats(dataloader, ratio=0.7):\n",
    "    total_loss = 0\n",
    "    total_samples = 0\n",
    "    # 遍历整个数据集并收集所有的 hidden_states\n",
    "    for i, batch in enumerate(dataloader):\n",
    "        hidden_states = batch[KEY_LM_HIDDEN_STATES]\n",
    "        out = ratio * hidden_states\n",
    "        # out = out.clamp(-1., 1.)\n",
    "        rec_loss = F.mse_loss(out, hidden_states)\n",
    "        total_loss += rec_loss.item() * hidden_states.shape[0]\n",
    "        total_samples += hidden_states.shape[0]\n",
    "    total_loss /= total_samples\n",
    "    return total_loss    \n",
    "\n",
    "# 示例用法：\n",
    "for ratio in range(60, 100, 2):\n",
    "    ratio = 0.01*ratio\n",
    "    total_loss = calculate_dataset_stats(dataloader, ratio)\n",
    "    print(\"%.2f\"%(ratio), f\":{total_loss}\")"
   ]
  },
  {
   "cell_type": "markdown",
   "metadata": {},
   "source": [
    "## H5py直接操作"
   ]
  },
  {
   "cell_type": "markdown",
   "metadata": {},
   "source": [
    "- 模型来自 https://huggingface.co/neulab/gpt2-finetuned-wikitext103\n",
    "- 模型tokenizer和定义如下\n",
    "```\n",
    "# Load model directly\n",
    "from transformers import AutoTokenizer, AutoModelForCausalLM\n",
    "\n",
    "tokenizer = AutoTokenizer.from_pretrained(\"neulab/gpt2-finetuned-wikitext103\")\n",
    "model = AutoModelForCausalLM.from_pretrained(\"neulab/gpt2-finetuned-wikitext103\")\n",
    "```"
   ]
  },
  {
   "cell_type": "code",
   "execution_count": 9,
   "metadata": {},
   "outputs": [
    {
     "data": {
      "text/plain": [
       "274"
      ]
     },
     "execution_count": 9,
     "metadata": {},
     "output_type": "execute_result"
    }
   ],
   "source": [
    "import h5py\n",
    "\n",
    "h5filename = '/home/yxwang/Dataset/vqhlm/wikitext103_gpt2finetuned/test.h5'\n",
    "f = h5py.File(h5filename, 'r')\n",
    "len(f['hidden_states'])"
   ]
  },
  {
   "cell_type": "code",
   "execution_count": 7,
   "metadata": {},
   "outputs": [
    {
     "name": "stdout",
     "output_type": "stream",
     "text": [
      "Total samples in the dataset: 548\n",
      "Hidden states shape: (548, 1024, 768)\n",
      "Input IDs shape: (548, 1024)\n",
      "Labels shape: (548, 1024)\n",
      "Sample 0 - Input IDs: [  796  5199   347 ... 50256 50256 50256]\n",
      "Sample 0 - Labels: [ 796 5199  347 ... -100 -100 -100]\n",
      "Sample 0 - Hidden States: [[-1.6174933  -1.1284641   0.0215988  ... -2.2583933   1.6741287\n",
      "  -0.35499385]\n",
      " [-5.498198    2.3329258  -2.2865224  ...  0.42031875  0.07713613\n",
      "   1.1435596 ]\n",
      " [ 1.8659987   1.5455958   1.0896978  ...  3.514292   -0.08421862\n",
      "   3.3854916 ]\n",
      " ...\n",
      " [ 0.798916    2.5979886  -0.07587534 ... -0.737859   -1.1983643\n",
      "   4.190173  ]\n",
      " [ 0.7338563   2.760131   -0.01490831 ... -0.6301186  -1.1114419\n",
      "   4.6592402 ]\n",
      " [ 0.7557825   1.4493941  -3.1341372  ... -2.043258    0.9624741\n",
      "   5.8210287 ]]\n"
     ]
    }
   ],
   "source": [
    "# 读取 HDF5 文件\n",
    "with h5py.File(h5filename, 'r') as f:\n",
    "    # 读取 total_samples 元数据\n",
    "    total_samples = f.attrs['total_samples']\n",
    "    print(f\"Total samples in the dataset: {total_samples}\")\n",
    "    \n",
    "    # 读取数据集\n",
    "    hidden_states = f['hidden_states'][:]\n",
    "    input_ids = f['input_ids'][:]\n",
    "    labels = f['labels'][:]\n",
    "\n",
    "    # 打印数据集的形状，确保读取正确\n",
    "    print(f\"Hidden states shape: {hidden_states.shape}\")\n",
    "    print(f\"Input IDs shape: {input_ids.shape}\")\n",
    "    print(f\"Labels shape: {labels.shape}\")\n",
    "    \n",
    "    # 获取第一个样本的数据并展示\n",
    "    sample_idx = 0  # 举例，读取第一个样本\n",
    "    print(f\"Sample {sample_idx} - Input IDs: {input_ids[sample_idx]}\")\n",
    "    print(f\"Sample {sample_idx} - Labels: {labels[sample_idx]}\")\n",
    "    \n",
    "    # 获取对应的 hidden states (flattened)\n",
    "    print(f\"Sample {sample_idx} - Hidden States: {hidden_states[sample_idx]}\")"
   ]
  },
  {
   "cell_type": "markdown",
   "metadata": {},
   "source": [
    "## 预览index frequencies（需要已经跑完test）"
   ]
  },
  {
   "cell_type": "code",
   "execution_count": 9,
   "metadata": {},
   "outputs": [
    {
     "name": "stdout",
     "output_type": "stream",
     "text": [
      "Data loaded from CSV: {0: 0, 1: 0, 2: 0, 3: 0, 4: 0, 5: 1, 6: 3, 7: 0, 8: 1, 9: 1, 10: 0, 11: 2, 12: 0, 13: 0, 14: 0, 15: 0, 16: 1, 17: 0, 18: 1, 19: 2, 20: 0, 21: 2, 22: 0, 23: 0, 24: 0, 25: 0, 26: 0, 27: 0, 28: 0, 29: 1, 30: 0, 31: 0, 32: 0, 33: 0, 34: 4, 35: 1, 36: 1, 37: 0, 38: 0, 39: 0, 40: 1, 41: 0, 42: 0, 43: 0, 44: 0, 45: 0, 46: 0, 47: 0, 48: 1, 49: 1, 50: 0, 51: 3, 52: 0, 53: 1, 54: 0, 55: 0, 56: 2, 57: 1, 58: 0, 59: 0, 60: 0, 61: 0, 62: 0, 63: 0, 64: 0, 65: 1, 66: 0, 67: 1, 68: 0, 69: 0, 70: 0, 71: 3, 72: 1, 73: 1, 74: 0, 75: 0, 76: 0, 77: 1, 78: 0, 79: 0, 80: 0, 81: 1, 82: 1, 83: 1, 84: 0, 85: 0, 86: 2, 87: 0, 88: 0, 89: 0, 90: 0, 91: 2, 92: 0, 93: 1, 94: 1, 95: 0, 96: 1, 97: 0, 98: 3, 99: 0, 100: 2, 101: 4, 102: 0, 103: 0, 104: 2, 105: 0, 106: 0, 107: 0, 108: 0, 109: 0, 110: 0, 111: 0, 112: 0, 113: 0, 114: 0, 115: 1, 116: 0, 117: 0, 118: 0, 119: 1, 120: 0, 121: 0, 122: 0, 123: 0, 124: 2, 125: 0, 126: 2, 127: 1, 128: 0, 129: 0, 130: 1, 131: 1, 132: 0, 133: 0, 134: 0, 135: 1, 136: 0, 137: 0, 138: 0, 139: 0, 140: 0, 141: 1, 142: 1, 143: 0, 144: 1, 145: 0, 146: 0, 147: 0, 148: 0, 149: 1, 150: 0, 151: 0, 152: 0, 153: 0, 154: 0, 155: 0, 156: 0, 157: 1, 158: 0, 159: 0, 160: 4, 161: 0, 162: 0, 163: 0, 164: 0, 165: 0, 166: 0, 167: 0, 168: 0, 169: 0, 170: 0, 171: 1, 172: 0, 173: 0, 174: 0, 175: 0, 176: 0, 177: 1, 178: 0, 179: 2, 180: 0, 181: 1, 182: 2, 183: 0, 184: 0, 185: 0, 186: 0, 187: 0, 188: 3, 189: 1, 190: 0, 191: 0, 192: 2, 193: 0, 194: 0, 195: 0, 196: 2, 197: 0, 198: 1, 199: 0, 200: 1, 201: 0, 202: 0, 203: 0, 204: 1, 205: 2, 206: 0, 207: 0, 208: 0, 209: 1, 210: 0, 211: 0, 212: 2, 213: 0, 214: 0, 215: 0, 216: 1, 217: 1, 218: 2, 219: 3, 220: 0, 221: 0, 222: 0, 223: 1, 224: 1, 225: 0, 226: 0, 227: 0, 228: 1, 229: 0, 230: 0, 231: 0, 232: 0, 233: 0, 234: 0, 235: 0, 236: 0, 237: 0, 238: 0, 239: 0, 240: 0, 241: 0, 242: 1, 243: 0, 244: 0, 245: 0, 246: 0, 247: 0, 248: 0, 249: 0, 250: 0, 251: 0, 252: 6, 253: 1, 254: 1, 255: 0, 256: 0, 257: 0, 258: 0, 259: 1, 260: 1, 261: 0, 262: 1, 263: 0, 264: 0, 265: 0, 266: 1, 267: 0, 268: 0, 269: 0, 270: 1, 271: 0, 272: 0, 273: 0, 274: 0, 275: 0, 276: 0, 277: 2, 278: 0, 279: 3, 280: 0, 281: 0, 282: 0, 283: 0, 284: 0, 285: 0, 286: 0, 287: 0, 288: 0, 289: 0, 290: 3, 291: 0, 292: 1, 293: 0, 294: 0, 295: 0, 296: 1, 297: 2, 298: 0, 299: 2, 300: 1, 301: 1, 302: 0, 303: 1, 304: 0, 305: 0, 306: 0, 307: 0, 308: 0, 309: 0, 310: 0, 311: 1, 312: 0, 313: 0, 314: 0, 315: 0, 316: 0, 317: 0, 318: 1, 319: 2, 320: 1, 321: 0, 322: 0, 323: 0, 324: 2, 325: 1, 326: 0, 327: 1, 328: 0, 329: 0, 330: 0, 331: 0, 332: 0, 333: 0, 334: 0, 335: 1, 336: 0, 337: 0, 338: 4, 339: 0, 340: 0, 341: 0, 342: 1, 343: 1, 344: 0, 345: 0, 346: 0, 347: 0, 348: 0, 349: 0, 350: 3, 351: 0, 352: 0, 353: 2, 354: 0, 355: 0, 356: 0, 357: 1, 358: 0, 359: 0, 360: 0, 361: 1, 362: 0, 363: 0, 364: 4, 365: 0, 366: 0, 367: 0, 368: 0, 369: 0, 370: 1, 371: 0, 372: 4, 373: 0, 374: 1, 375: 2, 376: 0, 377: 1, 378: 0, 379: 1, 380: 0, 381: 0, 382: 0, 383: 0, 384: 0, 385: 0, 386: 0, 387: 1, 388: 0, 389: 0, 390: 1, 391: 4, 392: 0, 393: 2, 394: 0, 395: 0, 396: 0, 397: 0, 398: 0, 399: 0, 400: 0, 401: 2, 402: 0, 403: 0, 404: 1, 405: 0, 406: 0, 407: 0, 408: 0, 409: 1, 410: 1, 411: 0, 412: 0, 413: 0, 414: 0, 415: 0, 416: 0, 417: 0, 418: 1, 419: 0, 420: 5, 421: 0, 422: 2, 423: 1, 424: 0, 425: 0, 426: 0, 427: 0, 428: 0, 429: 0, 430: 1, 431: 0, 432: 1, 433: 0, 434: 0, 435: 1, 436: 1, 437: 0, 438: 0, 439: 4, 440: 1, 441: 0, 442: 0, 443: 3, 444: 0, 445: 1, 446: 0, 447: 0, 448: 1, 449: 1, 450: 2, 451: 0, 452: 1, 453: 0, 454: 0, 455: 0, 456: 1, 457: 1, 458: 0, 459: 0, 460: 0, 461: 2, 462: 2, 463: 0, 464: 0, 465: 1, 466: 0, 467: 1, 468: 0, 469: 0, 470: 0, 471: 1, 472: 3, 473: 1, 474: 0, 475: 0, 476: 0, 477: 0, 478: 0, 479: 1, 480: 0, 481: 1, 482: 0, 483: 0, 484: 0, 485: 0, 486: 4, 487: 1, 488: 0, 489: 0, 490: 0, 491: 0, 492: 0, 493: 0, 494: 1, 495: 0, 496: 3, 497: 0, 498: 0, 499: 1, 500: 0, 501: 0, 502: 0, 503: 1, 504: 1, 505: 0, 506: 1, 507: 0, 508: 0, 509: 1, 510: 0, 511: 1, 512: 0, 513: 0, 514: 0, 515: 0, 516: 0, 517: 0, 518: 0, 519: 1, 520: 0, 521: 0, 522: 1, 523: 1, 524: 0, 525: 0, 526: 0, 527: 0, 528: 0, 529: 0, 530: 0, 531: 0, 532: 0, 533: 0, 534: 0, 535: 0, 536: 0, 537: 0, 538: 0, 539: 0, 540: 0, 541: 0, 542: 0, 543: 2, 544: 0, 545: 1, 546: 0, 547: 1, 548: 1, 549: 0, 550: 2, 551: 0, 552: 0, 553: 1, 554: 0, 555: 0, 556: 2, 557: 2, 558: 0, 559: 1, 560: 0, 561: 1, 562: 1, 563: 2, 564: 1, 565: 1, 566: 0, 567: 1, 568: 1, 569: 0, 570: 3, 571: 2, 572: 0, 573: 0, 574: 0, 575: 4, 576: 1, 577: 0, 578: 0, 579: 1, 580: 0, 581: 2, 582: 2, 583: 0, 584: 0, 585: 4, 586: 0, 587: 0, 588: 1, 589: 1, 590: 0, 591: 0, 592: 2, 593: 0, 594: 0, 595: 1, 596: 0, 597: 0, 598: 1, 599: 1, 600: 1, 601: 0, 602: 1, 603: 2, 604: 0, 605: 4, 606: 1, 607: 1, 608: 0, 609: 0, 610: 2, 611: 0, 612: 1, 613: 0, 614: 0, 615: 0, 616: 0, 617: 1, 618: 0, 619: 0, 620: 1, 621: 0, 622: 0, 623: 0, 624: 0, 625: 0, 626: 1, 627: 2, 628: 0, 629: 0, 630: 0, 631: 0, 632: 0, 633: 1, 634: 0, 635: 0, 636: 1, 637: 0, 638: 1, 639: 0, 640: 1, 641: 0, 642: 2, 643: 1, 644: 0, 645: 1, 646: 2, 647: 2, 648: 1, 649: 0, 650: 1, 651: 0, 652: 0, 653: 0, 654: 1, 655: 1, 656: 0, 657: 1, 658: 1, 659: 0, 660: 0, 661: 2, 662: 2, 663: 0, 664: 2, 665: 0, 666: 1, 667: 0, 668: 0, 669: 1, 670: 0, 671: 0, 672: 0, 673: 0, 674: 2, 675: 0, 676: 1, 677: 0, 678: 0, 679: 3, 680: 2, 681: 1, 682: 0, 683: 0, 684: 2, 685: 0, 686: 0, 687: 0, 688: 0, 689: 0, 690: 1, 691: 0, 692: 1, 693: 0, 694: 1, 695: 0, 696: 3, 697: 0, 698: 1, 699: 0, 700: 0, 701: 0, 702: 1, 703: 0, 704: 0, 705: 0, 706: 0, 707: 1, 708: 1, 709: 0, 710: 2, 711: 0, 712: 0, 713: 1, 714: 2, 715: 0, 716: 0, 717: 0, 718: 0, 719: 2, 720: 0, 721: 0, 722: 2, 723: 1, 724: 1, 725: 2, 726: 1, 727: 0, 728: 1, 729: 0, 730: 0, 731: 0, 732: 0, 733: 0, 734: 2, 735: 0, 736: 0, 737: 0, 738: 0, 739: 0, 740: 0, 741: 1, 742: 1, 743: 0, 744: 0, 745: 0, 746: 3, 747: 2, 748: 1, 749: 0, 750: 0, 751: 0, 752: 0, 753: 0, 754: 0, 755: 1, 756: 1, 757: 0, 758: 0, 759: 0, 760: 0, 761: 0, 762: 0, 763: 1, 764: 1, 765: 0, 766: 2, 767: 1, 768: 0, 769: 0, 770: 0, 771: 0, 772: 0, 773: 0, 774: 2, 775: 0, 776: 0, 777: 0, 778: 1, 779: 0, 780: 0, 781: 2, 782: 1, 783: 0, 784: 0, 785: 1, 786: 0, 787: 0, 788: 0, 789: 1, 790: 1, 791: 0, 792: 1, 793: 0, 794: 1, 795: 0, 796: 1, 797: 4, 798: 0, 799: 1, 800: 0, 801: 0, 802: 0, 803: 0, 804: 2, 805: 0, 806: 0, 807: 1, 808: 0, 809: 1, 810: 0, 811: 0, 812: 1, 813: 0, 814: 0, 815: 1, 816: 0, 817: 0, 818: 0, 819: 0, 820: 0, 821: 0, 822: 3, 823: 0, 824: 0, 825: 0, 826: 0, 827: 0, 828: 3, 829: 1, 830: 1, 831: 2, 832: 0, 833: 0, 834: 0, 835: 0, 836: 3, 837: 1, 838: 0, 839: 0, 840: 0, 841: 0, 842: 0, 843: 1, 844: 1, 845: 0, 846: 0, 847: 0, 848: 1, 849: 0, 850: 3, 851: 3, 852: 0, 853: 2, 854: 0, 855: 0, 856: 1, 857: 0, 858: 0, 859: 0, 860: 1, 861: 0, 862: 0, 863: 0, 864: 0, 865: 0, 866: 0, 867: 0, 868: 0, 869: 1, 870: 0, 871: 4, 872: 1, 873: 0, 874: 0, 875: 1, 876: 0, 877: 2, 878: 0, 879: 0, 880: 1, 881: 0, 882: 1, 883: 0, 884: 2, 885: 0, 886: 0, 887: 0, 888: 0, 889: 0, 890: 1, 891: 0, 892: 0, 893: 1, 894: 0, 895: 0, 896: 0, 897: 1, 898: 0, 899: 0, 900: 0, 901: 0, 902: 0, 903: 0, 904: 2, 905: 1, 906: 0, 907: 2, 908: 1, 909: 1, 910: 2, 911: 2, 912: 1, 913: 2, 914: 1, 915: 0, 916: 0, 917: 1, 918: 0, 919: 0, 920: 0, 921: 1, 922: 0, 923: 0, 924: 0, 925: 0, 926: 0, 927: 1, 928: 0, 929: 1, 930: 1, 931: 0, 932: 0, 933: 0, 934: 3, 935: 0, 936: 0, 937: 0, 938: 0, 939: 0, 940: 0, 941: 0, 942: 1, 943: 1, 944: 0, 945: 1, 946: 1, 947: 0, 948: 1, 949: 1, 950: 1, 951: 0, 952: 0, 953: 0, 954: 0, 955: 1, 956: 0, 957: 0, 958: 0, 959: 4, 960: 0, 961: 0, 962: 0, 963: 0, 964: 5, 965: 1, 966: 0, 967: 0, 968: 0, 969: 0, 970: 2, 971: 7, 972: 1, 973: 2, 974: 3, 975: 0, 976: 0, 977: 0, 978: 1, 979: 0, 980: 0, 981: 0, 982: 0, 983: 1, 984: 0, 985: 1, 986: 0, 987: 1, 988: 0, 989: 1, 990: 0, 991: 0, 992: 0, 993: 0, 994: 0, 995: 0, 996: 0, 997: 3, 998: 0, 999: 1, 1000: 0, 1001: 2, 1002: 0, 1003: 0, 1004: 0, 1005: 3, 1006: 4, 1007: 0, 1008: 0, 1009: 0, 1010: 0, 1011: 0, 1012: 0, 1013: 0, 1014: 4, 1015: 0, 1016: 0, 1017: 1, 1018: 1, 1019: 1, 1020: 1, 1021: 1, 1022: 0, 1023: 2}\n"
     ]
    },
    {
     "data": {
      "image/png": "[encoded data removed]",
      "text/plain": [
       "<Figure size 640x480 with 1 Axes>"
      ]
     },
     "metadata": {},
     "output_type": "display_data"
    }
   ],
   "source": [
    "import csv\n",
    "\n",
    "# 读取CSV文件并加载到字典中\n",
    "index_count_from_csv = {}\n",
    "\n",
    "with open('exp/1209_lowdim_CBDIM16/index_frequencies_0.csv', mode='r') as file:\n",
    "    reader = csv.reader(file)\n",
    "    next(reader)  # 跳过表头\n",
    "    for row in reader:\n",
    "        index = int(row[0])\n",
    "        frequency = int(row[1])\n",
    "        index_count_from_csv[index] = frequency\n",
    "\n",
    "print(\"Data loaded from CSV:\", index_count_from_csv)\n",
    "import matplotlib.pyplot as plt\n",
    "\n",
    "# 提取所有索引的出现次数\n",
    "frequencies_from_csv = list(index_count_from_csv.values())\n",
    "\n",
    "# 绘制直方图\n",
    "plt.bar(range(len(frequencies_from_csv)), frequencies_from_csv, edgecolor='black', alpha=0.7)\n",
    "plt.title(\"Frequency of Codebook Indices (From CSV Data)\")\n",
    "plt.xlabel(\"Codebook Index\")\n",
    "plt.ylabel(\"Frequency\")\n",
    "plt.xticks(range(0, len(frequencies_from_csv), 50))  # 可调整间隔，防止标签过密\n",
    "plt.show()\n"
   ]
  }
 ],
 "metadata": {
  "kernelspec": {
   "display_name": "vqhlm",
   "language": "python",
   "name": "python3"
  },
  "language_info": {
   "codemirror_mode": {
    "name": "ipython",
    "version": 3
   },
   "file_extension": ".py",
   "mimetype": "text/x-python",
   "name": "python",
   "nbconvert_exporter": "python",
   "pygments_lexer": "ipython3",
   "version": "3.9.20"
  }
 },
 "nbformat": 4,
 "nbformat_minor": 2
}
