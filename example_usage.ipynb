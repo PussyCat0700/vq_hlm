{
 "cells": [
  {
   "cell_type": "code",
   "execution_count": 1,
   "metadata": {},
   "outputs": [],
   "source": [
    "import h5py\n",
    "\n",
    "h5filename = '/data1/public/vqhlm/wikitext103_gpt2finetuned/test.h5'"
   ]
  },
  {
   "cell_type": "markdown",
   "metadata": {},
   "source": [
    "# 数据操作"
   ]
  },
  {
   "cell_type": "markdown",
   "metadata": {},
   "source": [
    "## ChunkedDataset"
   ]
  },
  {
   "cell_type": "code",
   "execution_count": 2,
   "metadata": {},
   "outputs": [
    {
     "name": "stdout",
     "output_type": "stream",
     "text": [
      "Input IDs: torch.Size([128, 1024])\n",
      "Labels: torch.Size([128, 1024])\n",
      "Hidden States: torch.Size([128, 256, 768])\n"
     ]
    }
   ],
   "source": [
    "from dataloading import get_chunked_h5dataloader\n",
    "from constants import KEY_LM_INPUT_IDS, KEY_LM_HIDDEN_STATES, KEY_LM_LABELS\n",
    "\n",
    "dataloader = get_chunked_h5dataloader(\n",
    "    config_path='conf/data/example.yaml',\n",
    "    split='test',\n",
    ")\n",
    "\n",
    "for batch in dataloader:\n",
    "    input_ids = batch[KEY_LM_INPUT_IDS]\n",
    "    labels = batch[KEY_LM_LABELS]\n",
    "    hidden_states = batch[KEY_LM_HIDDEN_STATES]\n",
    "    \n",
    "    print(f\"Input IDs: {input_ids.shape}\")\n",
    "    print(f\"Labels: {labels.shape}\")\n",
    "    print(f\"Hidden States: {hidden_states.shape}\")\n",
    "    break  # 这里只打印一个批次的数据"
   ]
  },
  {
   "cell_type": "markdown",
   "metadata": {},
   "source": [
    "## 线性缩放计算Loss估计值"
   ]
  },
  {
   "cell_type": "code",
   "execution_count": 3,
   "metadata": {},
   "outputs": [
    {
     "name": "stdout",
     "output_type": "stream",
     "text": [
      "0.60 :1.6648752212524414\n",
      "0.62 :1.5025500297546386\n",
      "0.64 :1.348549222946167\n",
      "0.66 :1.2028723239898682\n",
      "0.68 :1.0655202627182008\n",
      "0.70 :0.9364925146102905\n",
      "0.72 :0.8157887816429138\n",
      "0.74 :0.7034098148345947\n",
      "0.76 :0.5993551969528198\n",
      "0.78 :0.5036249399185181\n",
      "0.80 :0.4162187874317169\n",
      "0.82 :0.3371372878551483\n",
      "0.84 :0.2663801372051239\n",
      "0.86 :0.20394720137119293\n",
      "0.88 :0.14983879923820495\n",
      "0.90 :0.10405476540327072\n",
      "0.92 :0.06659498810768127\n",
      "0.94 :0.03745970129966736\n",
      "0.96 :0.01664877198636532\n",
      "0.98 :0.0041621804237365724\n"
     ]
    }
   ],
   "source": [
    "def calculate_dataset_stats(dataloader, ratio=0.7):\n",
    "    total_loss = 0\n",
    "    # 遍历整个数据集并收集所有的 hidden_states\n",
    "    for i, batch in enumerate(dataloader):\n",
    "        hidden_states = batch[KEY_LM_HIDDEN_STATES]\n",
    "        out = ratio * hidden_states\n",
    "        rec_loss = (out - hidden_states).abs().mean()\n",
    "        total_loss += rec_loss.item()\n",
    "    total_loss /= len(dataloader)\n",
    "    return total_loss    \n",
    "\n",
    "for ratio in range(60, 100, 2):\n",
    "    ratio = 0.01*ratio\n",
    "    total_loss = calculate_dataset_stats(dataloader, ratio)\n",
    "    print(\"%.2f\"%(ratio), f\":{total_loss}\")"
   ]
  },
  {
   "cell_type": "code",
   "execution_count": 5,
   "metadata": {},
   "outputs": [],
   "source": [
    "dataloader = get_chunked_h5dataloader(\n",
    "    config_path='conf/data/example_normed_128bs.yaml',\n",
    "    split='test',\n",
    ")"
   ]
  },
  {
   "cell_type": "code",
   "execution_count": 6,
   "metadata": {},
   "outputs": [
    {
     "name": "stdout",
     "output_type": "stream",
     "text": [
      "0.60 :0.00948053722580274\n",
      "0.62 :0.0085561852902174\n",
      "0.64 :0.007679236587136984\n",
      "0.66 :0.006849687701712052\n",
      "0.68 :0.006067544221878052\n",
      "0.70 :0.005332803043226401\n",
      "0.72 :0.004645462923993667\n",
      "0.74 :0.004005527123808861\n",
      "0.76 :0.0034129940128574767\n",
      "0.78 :0.002867863435919086\n",
      "0.80 :0.002370134306450685\n",
      "0.82 :0.0019198091079791386\n",
      "0.84 :0.0015168865987410147\n",
      "0.86 :0.0011613656921933095\n",
      "0.88 :0.0008532485032143692\n",
      "0.90 :0.0005925339064560831\n",
      "0.92 :0.0003792213586469491\n",
      "0.94 :0.0002133121258035923\n",
      "0.96 :9.480548760620877e-05\n",
      "0.98 :2.3701299748305853e-05\n"
     ]
    }
   ],
   "source": [
    "import torch\n",
    "\n",
    "criterion = torch.nn.MSELoss()\n",
    "\n",
    "def calculate_dataset_stats(dataloader, ratio=0.7):\n",
    "    total_loss = 0\n",
    "    # 遍历整个数据集并收集所有的 hidden_states\n",
    "    for i, batch in enumerate(dataloader):\n",
    "        hidden_states = batch[KEY_LM_HIDDEN_STATES]\n",
    "        out = ratio * hidden_states\n",
    "        # out = out.clamp(-1., 1.)\n",
    "        rec_loss = criterion(out, hidden_states)\n",
    "        total_loss += rec_loss.item()\n",
    "    total_loss /= len(dataloader)\n",
    "    return total_loss    \n",
    "\n",
    "# # 示例用法：\n",
    "for ratio in range(60, 100, 2):\n",
    "    ratio = 0.01*ratio\n",
    "    total_loss = calculate_dataset_stats(dataloader, ratio)\n",
    "    print(\"%.2f\"%(ratio), f\":{total_loss}\")"
   ]
  },
  {
   "cell_type": "markdown",
   "metadata": {},
   "source": [
    "## 高斯分布计算Loss估计值"
   ]
  },
  {
   "cell_type": "code",
   "execution_count": 5,
   "metadata": {},
   "outputs": [
    {
     "name": "stdout",
     "output_type": "stream",
     "text": [
      "0.60 :1.33099684715271\n",
      "0.62 :1.0340008735656738\n",
      "0.64 :1.2303516507148742\n",
      "0.66 :1.0754451632499695\n",
      "0.68 :0.6998544454574585\n",
      "0.70 :0.8215419173240661\n",
      "0.72 :0.9158506155014038\n",
      "0.74 :0.814272403717041\n",
      "0.76 :0.8195157647132874\n",
      "0.78 :0.7020301461219788\n",
      "0.80 :0.8077657759189606\n",
      "0.82 :0.5790830552577972\n",
      "0.84 :0.4984911382198334\n",
      "0.86 :0.503730633854866\n",
      "0.88 :0.3759007602930069\n",
      "0.90 :0.4350153267383575\n",
      "0.92 :0.27799751460552213\n",
      "0.94 :0.18833388537168502\n",
      "0.96 :0.1073386013507843\n",
      "0.98 :0.04887363277375698\n"
     ]
    }
   ],
   "source": [
    "import torch\n",
    "\n",
    "def calculate_dataset_stats(dataloader, ratio=0.7):\n",
    "    total_loss = 0\n",
    "    # 遍历整个数据集并收集所有的 hidden_states\n",
    "    for i, batch in enumerate(dataloader):\n",
    "        hidden_states = batch[KEY_LM_HIDDEN_STATES]\n",
    "        \n",
    "        # 创建一个形状为 (256,) 的掩码，标记出比例为 (1-ratio) 的部分\n",
    "        mask = torch.rand(hidden_states.size(1)) < ratio  # mask的大小是 (256,)\n",
    "        \n",
    "        # 扩展掩码到 (128, 256, 768) 形状\n",
    "        mask = mask.unsqueeze(0).unsqueeze(2).expand(hidden_states.size(0), hidden_states.size(1), hidden_states.size(2))\n",
    "        \n",
    "        # 生成一个形状与 hidden_states 相同的高斯分布张量\n",
    "        gaussian_fill = torch.normal(mean=hidden_states.mean(), std=hidden_states.std())  # 生成均值为0，方差为1的高斯分布\n",
    "        \n",
    "        # 将被掩盖为零的部分用高斯分布填充\n",
    "        masked_hidden_states = hidden_states * mask.float() + gaussian_fill * (1 - mask.float())\n",
    "        \n",
    "        # 计算重构损失\n",
    "        rec_loss = (masked_hidden_states - hidden_states).abs().mean()\n",
    "        total_loss += rec_loss.item()\n",
    "\n",
    "    total_loss /= len(dataloader)\n",
    "    return total_loss\n",
    "\n",
    "for ratio in range(60, 100, 2):\n",
    "    ratio = 0.01*ratio\n",
    "    total_loss = calculate_dataset_stats(dataloader, ratio)\n",
    "    print(\"%.2f\"%(ratio), f\":{total_loss}\")"
   ]
  },
  {
   "cell_type": "markdown",
   "metadata": {},
   "source": [
    "## H5py直接操作"
   ]
  },
  {
   "cell_type": "markdown",
   "metadata": {},
   "source": [
    "- 模型来自 https://huggingface.co/neulab/gpt2-finetuned-wikitext103\n",
    "- 模型tokenizer和定义如下\n",
    "```\n",
    "# Load model directly\n",
    "from transformers import AutoTokenizer, AutoModelForCausalLM\n",
    "\n",
    "tokenizer = AutoTokenizer.from_pretrained(\"neulab/gpt2-finetuned-wikitext103\")\n",
    "model = AutoModelForCausalLM.from_pretrained(\"neulab/gpt2-finetuned-wikitext103\")\n",
    "```"
   ]
  },
  {
   "cell_type": "code",
   "execution_count": 3,
   "metadata": {},
   "outputs": [
    {
     "name": "stdout",
     "output_type": "stream",
     "text": [
      "Total samples in the dataset: 548\n",
      "Hidden states shape: (548, 1024, 768)\n",
      "Input IDs shape: (548, 1024)\n",
      "Labels shape: (548, 1024)\n",
      "Sample 0 - Input IDs: [  796  5199   347 ... 50256 50256 50256]\n",
      "Sample 0 - Labels: [ 796 5199  347 ... -100 -100 -100]\n",
      "Sample 0 - Hidden States: [[-1.6174933  -1.1284641   0.0215988  ... -2.2583933   1.6741287\n",
      "  -0.35499385]\n",
      " [-5.498198    2.3329258  -2.2865224  ...  0.42031875  0.07713613\n",
      "   1.1435596 ]\n",
      " [ 1.8659987   1.5455958   1.0896978  ...  3.514292   -0.08421862\n",
      "   3.3854916 ]\n",
      " ...\n",
      " [ 0.798916    2.5979886  -0.07587534 ... -0.737859   -1.1983643\n",
      "   4.190173  ]\n",
      " [ 0.7338563   2.760131   -0.01490831 ... -0.6301186  -1.1114419\n",
      "   4.6592402 ]\n",
      " [ 0.7557825   1.4493941  -3.1341372  ... -2.043258    0.9624741\n",
      "   5.8210287 ]]\n"
     ]
    }
   ],
   "source": [
    "# 读取 HDF5 文件\n",
    "with h5py.File(h5filename, 'r') as f:\n",
    "    # 读取 total_samples 元数据\n",
    "    total_samples = f.attrs['total_samples']\n",
    "    print(f\"Total samples in the dataset: {total_samples}\")\n",
    "    \n",
    "    # 读取数据集\n",
    "    hidden_states = f['hidden_states'][:]\n",
    "    input_ids = f['input_ids'][:]\n",
    "    labels = f['labels'][:]\n",
    "\n",
    "    # 打印数据集的形状，确保读取正确\n",
    "    print(f\"Hidden states shape: {hidden_states.shape}\")\n",
    "    print(f\"Input IDs shape: {input_ids.shape}\")\n",
    "    print(f\"Labels shape: {labels.shape}\")\n",
    "    \n",
    "    # 获取第一个样本的数据并展示\n",
    "    sample_idx = 0  # 举例，读取第一个样本\n",
    "    print(f\"Sample {sample_idx} - Input IDs: {input_ids[sample_idx]}\")\n",
    "    print(f\"Sample {sample_idx} - Labels: {labels[sample_idx]}\")\n",
    "    \n",
    "    # 获取对应的 hidden states (flattened)\n",
    "    print(f\"Sample {sample_idx} - Hidden States: {hidden_states[sample_idx]}\")"
   ]
  },
  {
   "cell_type": "markdown",
   "metadata": {},
   "source": [
    "## 预览index frequencies（需要已经跑完test）"
   ]
  },
  {
   "cell_type": "code",
   "execution_count": 6,
   "metadata": {},
   "outputs": [
    {
     "name": "stdout",
     "output_type": "stream",
     "text": [
      "Data loaded from CSV: {0: 5, 1: 5, 2: 5, 3: 5, 4: 5, 5: 5, 6: 4, 7: 5, 8: 5, 9: 5, 10: 5, 11: 5, 12: 5, 13: 5, 14: 5, 15: 5, 16: 5, 17: 5, 18: 5, 19: 5, 20: 5, 21: 5, 22: 3, 23: 5, 24: 5, 25: 5, 26: 5, 27: 4, 28: 5, 29: 5, 30: 5, 31: 5, 32: 5, 33: 4, 34: 5, 35: 5, 36: 5, 37: 5, 38: 5, 39: 5, 40: 4, 41: 4, 42: 5, 43: 5, 44: 5, 45: 5, 46: 5, 47: 4, 48: 3, 49: 5, 50: 5, 51: 5, 52: 5, 53: 5, 54: 5, 55: 5, 56: 5, 57: 5, 58: 5, 59: 5, 60: 5, 61: 5, 62: 5, 63: 5, 64: 5, 65: 5, 66: 5, 67: 5, 68: 5, 69: 5, 70: 5, 71: 5, 72: 5, 73: 5, 74: 5, 75: 5, 76: 5, 77: 5, 78: 5, 79: 5, 80: 5, 81: 5, 82: 5, 83: 5, 84: 5, 85: 5, 86: 5, 87: 5, 88: 5, 89: 5, 90: 5, 91: 5, 92: 5, 93: 5, 94: 5, 95: 5, 96: 5, 97: 5, 98: 5, 99: 5, 100: 5, 101: 5, 102: 5, 103: 5, 104: 5, 105: 5, 106: 5, 107: 5, 108: 5, 109: 5, 110: 5, 111: 5, 112: 5, 113: 5, 114: 4, 115: 5, 116: 5, 117: 5, 118: 5, 119: 5, 120: 5, 121: 5, 122: 5, 123: 5, 124: 5, 125: 5, 126: 5, 127: 4, 128: 5, 129: 5, 130: 5, 131: 5, 132: 5, 133: 5, 134: 5, 135: 5, 136: 5, 137: 4, 138: 5, 139: 5, 140: 5, 141: 5, 142: 5, 143: 5, 144: 5, 145: 5, 146: 5, 147: 5, 148: 5, 149: 5, 150: 5, 151: 5, 152: 5, 153: 4, 154: 5, 155: 5, 156: 4, 157: 4, 158: 5, 159: 5, 160: 5, 161: 5, 162: 5, 163: 5, 164: 5, 165: 5, 166: 5, 167: 5, 168: 5, 169: 5, 170: 5, 171: 5, 172: 5, 173: 3, 174: 5, 175: 5, 176: 4, 177: 5, 178: 5, 179: 5, 180: 5, 181: 5, 182: 5, 183: 5, 184: 5, 185: 5, 186: 4, 187: 5, 188: 5, 189: 3, 190: 5, 191: 5, 192: 5, 193: 5, 194: 5, 195: 5, 196: 5, 197: 5, 198: 5, 199: 5, 200: 5, 201: 5, 202: 5, 203: 5, 204: 5, 205: 5, 206: 5, 207: 5, 208: 5, 209: 5, 210: 5, 211: 5, 212: 5, 213: 5, 214: 5, 215: 5, 216: 5, 217: 5, 218: 5, 219: 5, 220: 5, 221: 5, 222: 5, 223: 5, 224: 5, 225: 5, 226: 5, 227: 5, 228: 5, 229: 5, 230: 5, 231: 5, 232: 5, 233: 2, 234: 5, 235: 5, 236: 5, 237: 5, 238: 5, 239: 5, 240: 5, 241: 5, 242: 5, 243: 5, 244: 5, 245: 5, 246: 5, 247: 5, 248: 4, 249: 5, 250: 4, 251: 5, 252: 4, 253: 5, 254: 1, 255: 5, 256: 5, 257: 5, 258: 5, 259: 5, 260: 5, 261: 5, 262: 5, 263: 5, 264: 5, 265: 5, 266: 5, 267: 5, 268: 5, 269: 5, 270: 5, 271: 5, 272: 4, 273: 5, 274: 5, 275: 5, 276: 5, 277: 5, 278: 5, 279: 5, 280: 5, 281: 5, 282: 5, 283: 5, 284: 5, 285: 5, 286: 5, 287: 5, 288: 5, 289: 5, 290: 5, 291: 5, 292: 5, 293: 5, 294: 5, 295: 5, 296: 4, 297: 5, 298: 5, 299: 5, 300: 5, 301: 5, 302: 4, 303: 5, 304: 5, 305: 4, 306: 5, 307: 5, 308: 5, 309: 5, 310: 5, 311: 5, 312: 5, 313: 5, 314: 5, 315: 5, 316: 5, 317: 4, 318: 5, 319: 5, 320: 5, 321: 5, 322: 5, 323: 5, 324: 5, 325: 5, 326: 5, 327: 5, 328: 5, 329: 5, 330: 5, 331: 4, 332: 5, 333: 5, 334: 5, 335: 5, 336: 5, 337: 5, 338: 5, 339: 5, 340: 5, 341: 5, 342: 5, 343: 5, 344: 5, 345: 5, 346: 5, 347: 5, 348: 5, 349: 5, 350: 3, 351: 4, 352: 5, 353: 5, 354: 5, 355: 4, 356: 5, 357: 5, 358: 5, 359: 5, 360: 5, 361: 5, 362: 5, 363: 5, 364: 5, 365: 5, 366: 5, 367: 5, 368: 5, 369: 5, 370: 5, 371: 5, 372: 5, 373: 5, 374: 5, 375: 5, 376: 5, 377: 5, 378: 5, 379: 5, 380: 5, 381: 5, 382: 5, 383: 5, 384: 5, 385: 5, 386: 5, 387: 5, 388: 5, 389: 5, 390: 5, 391: 5, 392: 5, 393: 5, 394: 5, 395: 5, 396: 5, 397: 5, 398: 5, 399: 5, 400: 5, 401: 5, 402: 5, 403: 5, 404: 5, 405: 4, 406: 5, 407: 5, 408: 5, 409: 5, 410: 5, 411: 4, 412: 5, 413: 5, 414: 5, 415: 5, 416: 5, 417: 5, 418: 5, 419: 5, 420: 5, 421: 5, 422: 5, 423: 5, 424: 5, 425: 5, 426: 5, 427: 5, 428: 5, 429: 5, 430: 5, 431: 5, 432: 5, 433: 5, 434: 5, 435: 5, 436: 5, 437: 5, 438: 5, 439: 5, 440: 5, 441: 5, 442: 5, 443: 5, 444: 5, 445: 5, 446: 5, 447: 5, 448: 5, 449: 5, 450: 5, 451: 5, 452: 5, 453: 5, 454: 5, 455: 5, 456: 5, 457: 5, 458: 5, 459: 5, 460: 5, 461: 5, 462: 5, 463: 5, 464: 5, 465: 3, 466: 5, 467: 5, 468: 5, 469: 5, 470: 4, 471: 5, 472: 5, 473: 5, 474: 5, 475: 2, 476: 5, 477: 5, 478: 5, 479: 5, 480: 5, 481: 5, 482: 5, 483: 5, 484: 5, 485: 5, 486: 5, 487: 5, 488: 5, 489: 5, 490: 5, 491: 5, 492: 5, 493: 5, 494: 5, 495: 5, 496: 5, 497: 5, 498: 5, 499: 5, 500: 5, 501: 5, 502: 5, 503: 5, 504: 5, 505: 2, 506: 5, 507: 5, 508: 5, 509: 5, 510: 5, 511: 5, 512: 5, 513: 4, 514: 5, 515: 5, 516: 5, 517: 5, 518: 5, 519: 5, 520: 5, 521: 5, 522: 5, 523: 5, 524: 5, 525: 5, 526: 5, 527: 5, 528: 5, 529: 5, 530: 5, 531: 5, 532: 5, 533: 5, 534: 5, 535: 5, 536: 5, 537: 5, 538: 5, 539: 5, 540: 5, 541: 5, 542: 5, 543: 5, 544: 5, 545: 5, 546: 5, 547: 5, 548: 5, 549: 5, 550: 5, 551: 5, 552: 5, 553: 5, 554: 5, 555: 4, 556: 5, 557: 5, 558: 5, 559: 5, 560: 5, 561: 5, 562: 5, 563: 5, 564: 4, 565: 5, 566: 5, 567: 5, 568: 0, 569: 5, 570: 5, 571: 5, 572: 5, 573: 5, 574: 5, 575: 5, 576: 5, 577: 5, 578: 5, 579: 5, 580: 5, 581: 5, 582: 5, 583: 5, 584: 5, 585: 4, 586: 5, 587: 5, 588: 5, 589: 5, 590: 5, 591: 5, 592: 5, 593: 5, 594: 5, 595: 5, 596: 5, 597: 5, 598: 5, 599: 5, 600: 5, 601: 4, 602: 5, 603: 5, 604: 5, 605: 5, 606: 5, 607: 5, 608: 5, 609: 5, 610: 5, 611: 5, 612: 5, 613: 5, 614: 5, 615: 5, 616: 5, 617: 5, 618: 5, 619: 5, 620: 5, 621: 5, 622: 5, 623: 5, 624: 5, 625: 5, 626: 5, 627: 5, 628: 5, 629: 5, 630: 5, 631: 5, 632: 5, 633: 5, 634: 5, 635: 5, 636: 5, 637: 5, 638: 5, 639: 5, 640: 5, 641: 5, 642: 5, 643: 5, 644: 5, 645: 5, 646: 4, 647: 5, 648: 5, 649: 5, 650: 5, 651: 5, 652: 5, 653: 5, 654: 5, 655: 5, 656: 5, 657: 5, 658: 4, 659: 5, 660: 5, 661: 5, 662: 5, 663: 5, 664: 5, 665: 5, 666: 5, 667: 5, 668: 3, 669: 5, 670: 5, 671: 5, 672: 5, 673: 5, 674: 5, 675: 3, 676: 5, 677: 5, 678: 5, 679: 5, 680: 5, 681: 5, 682: 5, 683: 3, 684: 5, 685: 4, 686: 5, 687: 5, 688: 5, 689: 5, 690: 5, 691: 5, 692: 5, 693: 5, 694: 5, 695: 5, 696: 5, 697: 5, 698: 3, 699: 5, 700: 4, 701: 5, 702: 5, 703: 5, 704: 5, 705: 5, 706: 5, 707: 5, 708: 5, 709: 5, 710: 5, 711: 5, 712: 5, 713: 5, 714: 5, 715: 5, 716: 5, 717: 5, 718: 5, 719: 5, 720: 5, 721: 5, 722: 5, 723: 0, 724: 5, 725: 5, 726: 5, 727: 5, 728: 5, 729: 5, 730: 5, 731: 5, 732: 5, 733: 5, 734: 5, 735: 5, 736: 5, 737: 3, 738: 5, 739: 5, 740: 5, 741: 5, 742: 5, 743: 5, 744: 5, 745: 5, 746: 5, 747: 5, 748: 5, 749: 5, 750: 5, 751: 5, 752: 5, 753: 5, 754: 5, 755: 5, 756: 5, 757: 5, 758: 5, 759: 5, 760: 5, 761: 5, 762: 5, 763: 5, 764: 5, 765: 5, 766: 5, 767: 5, 768: 5, 769: 5, 770: 5, 771: 5, 772: 5, 773: 5, 774: 5, 775: 5, 776: 5, 777: 5, 778: 5, 779: 5, 780: 4, 781: 5, 782: 5, 783: 5, 784: 5, 785: 5, 786: 4, 787: 5, 788: 5, 789: 5, 790: 5, 791: 5, 792: 2, 793: 5, 794: 0, 795: 5, 796: 5, 797: 5, 798: 5, 799: 5, 800: 5, 801: 4, 802: 5, 803: 5, 804: 5, 805: 5, 806: 5, 807: 5, 808: 5, 809: 5, 810: 5, 811: 5, 812: 5, 813: 5, 814: 5, 815: 5, 816: 5, 817: 5, 818: 5, 819: 5, 820: 5, 821: 5, 822: 5, 823: 5, 824: 5, 825: 5, 826: 5, 827: 5, 828: 5, 829: 5, 830: 5, 831: 5, 832: 5, 833: 5, 834: 5, 835: 5, 836: 5, 837: 5, 838: 5, 839: 5, 840: 5, 841: 5, 842: 5, 843: 5, 844: 5, 845: 4, 846: 5, 847: 5, 848: 3, 849: 4, 850: 5, 851: 5, 852: 5, 853: 4, 854: 5, 855: 5, 856: 5, 857: 5, 858: 5, 859: 5, 860: 5, 861: 5, 862: 5, 863: 5, 864: 5, 865: 5, 866: 5, 867: 5, 868: 5, 869: 5, 870: 5, 871: 5, 872: 5, 873: 5, 874: 5, 875: 5, 876: 5, 877: 5, 878: 5, 879: 5, 880: 5, 881: 5, 882: 5, 883: 5, 884: 3, 885: 5, 886: 5, 887: 4, 888: 5, 889: 5, 890: 5, 891: 5, 892: 3, 893: 5, 894: 5, 895: 5, 896: 5, 897: 0, 898: 4, 899: 5, 900: 5, 901: 5, 902: 5, 903: 5, 904: 5, 905: 5, 906: 5, 907: 5, 908: 5, 909: 5, 910: 5, 911: 5, 912: 5, 913: 5, 914: 5, 915: 5, 916: 4, 917: 4, 918: 5, 919: 5, 920: 5, 921: 5, 922: 5, 923: 5, 924: 5, 925: 5, 926: 5, 927: 5, 928: 5, 929: 5, 930: 5, 931: 5, 932: 5, 933: 5, 934: 5, 935: 5, 936: 4, 937: 5, 938: 5, 939: 5, 940: 5, 941: 5, 942: 5, 943: 5, 944: 5, 945: 5, 946: 5, 947: 5, 948: 5, 949: 5, 950: 5, 951: 5, 952: 5, 953: 5, 954: 5, 955: 5, 956: 5, 957: 5, 958: 5, 959: 5, 960: 5, 961: 5, 962: 4, 963: 5, 964: 5, 965: 5, 966: 5, 967: 5, 968: 5, 969: 5, 970: 5, 971: 5, 972: 5, 973: 5, 974: 5, 975: 5, 976: 4, 977: 5, 978: 5, 979: 5, 980: 5, 981: 4, 982: 5, 983: 5, 984: 5, 985: 5, 986: 4, 987: 5, 988: 5, 989: 5, 990: 5, 991: 5, 992: 0, 993: 5, 994: 5, 995: 3, 996: 5, 997: 5, 998: 5, 999: 5, 1000: 5, 1001: 5, 1002: 5, 1003: 5, 1004: 5, 1005: 5, 1006: 5, 1007: 5, 1008: 5, 1009: 5, 1010: 5, 1011: 5, 1012: 5, 1013: 5, 1014: 5, 1015: 5, 1016: 5, 1017: 5, 1018: 4, 1019: 5, 1020: 5, 1021: 5, 1022: 5, 1023: 4}\n"
     ]
    },
    {
     "data": {
      "image/png": "[encoded data removed]",
      "text/plain": [
       "<Figure size 640x480 with 1 Axes>"
      ]
     },
     "metadata": {},
     "output_type": "display_data"
    }
   ],
   "source": [
    "import csv\n",
    "\n",
    "# 读取CSV文件并加载到字典中\n",
    "index_count_from_csv = {}\n",
    "\n",
    "with open('runs/vq_vanilla/index_frequencies.csv', mode='r') as file:\n",
    "    reader = csv.reader(file)\n",
    "    next(reader)  # 跳过表头\n",
    "    for row in reader:\n",
    "        index = int(row[0])\n",
    "        frequency = int(row[1])\n",
    "        index_count_from_csv[index] = frequency\n",
    "\n",
    "print(\"Data loaded from CSV:\", index_count_from_csv)\n",
    "import matplotlib.pyplot as plt\n",
    "\n",
    "# 提取所有索引的出现次数\n",
    "frequencies_from_csv = list(index_count_from_csv.values())\n",
    "\n",
    "# 绘制直方图\n",
    "plt.bar(range(len(frequencies_from_csv)), frequencies_from_csv, edgecolor='black', alpha=0.7)\n",
    "plt.title(\"Frequency of Codebook Indices (From CSV Data)\")\n",
    "plt.xlabel(\"Codebook Index\")\n",
    "plt.ylabel(\"Frequency\")\n",
    "plt.xticks(range(0, len(frequencies_from_csv), 50))  # 可调整间隔，防止标签过密\n",
    "plt.show()\n"
   ]
  }
 ],
 "metadata": {
  "kernelspec": {
   "display_name": "vqhlm",
   "language": "python",
   "name": "python3"
  },
  "language_info": {
   "codemirror_mode": {
    "name": "ipython",
    "version": 3
   },
   "file_extension": ".py",
   "mimetype": "text/x-python",
   "name": "python",
   "nbconvert_exporter": "python",
   "pygments_lexer": "ipython3",
   "version": "3.9.20"
  }
 },
 "nbformat": 4,
 "nbformat_minor": 2
}
